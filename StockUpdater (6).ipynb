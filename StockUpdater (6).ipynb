{
 "cells": [
  {
   "cell_type": "code",
   "execution_count": 17,
   "metadata": {},
   "outputs": [],
   "source": [
    "import yfinance as yf\n",
    "import pandas as pd\n",
    "from datetime import datetime, timedelta\n",
    "import os"
   ]
  },
  {
   "cell_type": "code",
   "execution_count": 18,
   "metadata": {},
   "outputs": [
    {
     "name": "stdout",
     "output_type": "stream",
     "text": [
      "2023-09-24 14:16:04.936149\n",
      "2018-09-25 14:16:04.936149\n"
     ]
    }
   ],
   "source": [
    "## Define the list of tickers\n",
    "tickers = [\n",
    "\"LLOY.L\",\n",
    "\"BLK\",\n",
    "\"BAX\",\n",
    "\"COLD\",\n",
    "\"CRM\",\n",
    "\"DIS\",\n",
    "\"EL\",\n",
    "\"EZJ.L\",\n",
    "\"GAW.L\",\n",
    "\"4I7.F\",\n",
    "\"IFX.DE\",\n",
    "\"MELI\",\n",
    "\"NEE\",\n",
    "\"PFE\",\n",
    "\"TTE.PA\",\n",
    "\"SQ\"]\n",
    "#MC.PA is LVHM\n",
    "## Set the end date to today\n",
    "end_date = datetime.today()\n",
    "print(end_date)\n",
    "\n",
    "## Set the interval to collect data\n",
    "interval = '1wk' \n",
    "\n",
    "## Set the start date to 5 years ago\n",
    "start_date = end_date - timedelta(days = 5*365)\n",
    "print(start_date)"
   ]
  },
  {
   "cell_type": "code",
   "execution_count": 19,
   "metadata": {},
   "outputs": [
    {
     "name": "stdout",
     "output_type": "stream",
     "text": [
      "[*********************100%%**********************]  1 of 1 completed\n",
      "[*********************100%%**********************]  1 of 1 completed\n",
      "[*********************100%%**********************]  1 of 1 completed\n",
      "[*********************100%%**********************]  1 of 1 completed\n",
      "[*********************100%%**********************]  1 of 1 completed\n",
      "[*********************100%%**********************]  1 of 1 completed\n",
      "[*********************100%%**********************]  1 of 1 completed\n",
      "[*********************100%%**********************]  1 of 1 completed\n",
      "[*********************100%%**********************]  1 of 1 completed\n",
      "[*********************100%%**********************]  1 of 1 completed\n",
      "[*********************100%%**********************]  1 of 1 completed\n",
      "[*********************100%%**********************]  1 of 1 completed\n",
      "[*********************100%%**********************]  1 of 1 completed\n",
      "[*********************100%%**********************]  1 of 1 completed\n",
      "[*********************100%%**********************]  1 of 1 completed\n",
      "[*********************100%%**********************]  1 of 1 completed\n",
      "               LLOY.L         BLK        BAX       COLD         CRM  \\\n",
      "Date                                                                  \n",
      "2018-09-24  59.270000  471.329987  77.089996  25.020000  159.029999   \n",
      "2018-10-01  58.930000  470.859985  74.180000  24.879999  155.070007   \n",
      "2018-10-08  58.150002  427.700012  71.250000  24.129999  146.740005   \n",
      "2018-10-15  56.130001  401.649994  69.459999  24.430000  140.490005   \n",
      "2018-10-22  56.830002  386.929993  67.099998  24.709999  135.520004   \n",
      "...               ...         ...        ...        ...         ...   \n",
      "2023-08-21  41.794998  675.960022  41.529999  32.820000  209.470001   \n",
      "2023-08-28  42.115002  706.190002  40.599998  33.529999  221.529999   \n",
      "2023-09-04  41.340000  690.619995  38.669998  32.869999  224.759995   \n",
      "2023-09-11  43.200001  697.409973  39.080002  33.009998  214.610001   \n",
      "2023-09-18  45.340000  660.099976  37.700001  31.860001  206.429993   \n",
      "\n",
      "                   DIS          EL        EZJ.L    GAW.L      4I7.F  \\\n",
      "Date                                                                  \n",
      "2018-09-24  116.940002  145.320007  1314.000000   3785.0        NaN   \n",
      "2018-10-01  114.779999  138.309998  1208.500000   3705.0        NaN   \n",
      "2018-10-08  112.610001  126.320000  1200.000000   3225.0        NaN   \n",
      "2018-10-15  118.900002  125.449997  1068.000000   3065.0        NaN   \n",
      "2018-10-22  113.190002  125.620003  1168.000000   3045.0        NaN   \n",
      "...                ...         ...          ...      ...        ...   \n",
      "2023-08-21   83.360001  153.199997   412.399994  10620.0  49.334999   \n",
      "2023-08-28   81.639999  161.699997   425.000000  10720.0  51.009998   \n",
      "2023-09-04   81.580002  154.000000   431.500000  10520.0  51.340000   \n",
      "2023-09-11   85.580002  155.699997   445.700012  11490.0  52.750000   \n",
      "2023-09-18   81.250000  147.619995   434.399994  10700.0  51.580002   \n",
      "\n",
      "               IFX.DE         MELI        NEE        PFE     TTE.PA         SQ  \n",
      "Date                                                                            \n",
      "2018-09-24  19.570000   340.470001  41.900002  41.812145  55.840000  99.010002  \n",
      "2018-10-01  19.740000   335.640015  43.092499  42.609108  55.130001  94.110001  \n",
      "2018-10-08  18.139999   303.420013  42.340000  41.537003  52.930000  73.970001  \n",
      "2018-10-15  17.594999   301.869995  43.365002  42.220116  52.830002  74.070000  \n",
      "2018-10-22  16.139999   295.369995  42.472500  40.417458  50.630001  71.120003  \n",
      "...               ...          ...        ...        ...        ...        ...  \n",
      "2023-08-21  31.975000  1237.839966  67.959999  36.380001  57.320000  55.860001  \n",
      "2023-08-28  32.875000  1421.640015  66.870003  35.779999  58.889999  58.169998  \n",
      "2023-09-04  32.200001  1428.189941  66.830002  34.250000  60.380001  53.080002  \n",
      "2023-09-11  32.345001  1396.660034  68.639999  34.070000  62.369999  52.830002  \n",
      "2023-09-18  31.395000  1276.959961  67.699997  32.689999  61.910000  44.709999  \n",
      "\n",
      "[261 rows x 16 columns]\n"
     ]
    }
   ],
   "source": [
    "## Create an empty DataFrame to store the close prices\n",
    "close_df = pd.DataFrame()\n",
    "\n",
    "## Download the close prices for each ticker\n",
    "for ticker in tickers:\n",
    "    data = yf.download(ticker, start = start_date, end = end_date, interval = interval)\n",
    "    close_df[ticker] = data['Close']\n",
    "\n",
    "## Display the DataFrame\n",
    "print(close_df)"
   ]
  },
  {
   "cell_type": "code",
   "execution_count": 20,
   "metadata": {},
   "outputs": [],
   "source": [
    "## Set the output folder path\n",
    "output_folder = r\"/Users/domagoj/Desktop\"\n",
    "\n",
    "## Export the DataFrame to Excel\n",
    "output_file = os.path.join(output_folder, 'stock_prices.xlsx')\n",
    "close_df.to_excel(output_file)"
   ]
  }
 ],
 "metadata": {
  "kernelspec": {
   "display_name": "base",
   "language": "python",
   "name": "python3"
  },
  "language_info": {
   "codemirror_mode": {
    "name": "ipython",
    "version": 3
   },
   "file_extension": ".py",
   "mimetype": "text/x-python",
   "name": "python",
   "nbconvert_exporter": "python",
   "pygments_lexer": "ipython3",
   "version": "3.11.4"
  },
  "orig_nbformat": 4
 },
 "nbformat": 4,
 "nbformat_minor": 2
}
